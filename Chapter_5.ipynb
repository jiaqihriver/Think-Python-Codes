{
  "nbformat": 4,
  "nbformat_minor": 0,
  "metadata": {
    "colab": {
      "name": "Chapter 5.ipynb",
      "version": "0.3.2",
      "provenance": [],
      "collapsed_sections": [],
      "include_colab_link": true
    },
    "kernelspec": {
      "name": "python3",
      "display_name": "Python 3"
    }
  },
  "cells": [
    {
      "cell_type": "markdown",
      "metadata": {
        "id": "view-in-github",
        "colab_type": "text"
      },
      "source": [
        "<a href=\"https://colab.research.google.com/github/jiaqihriver/Think-Python-Codes/blob/master/Chapter_5.ipynb\" target=\"_parent\"><img src=\"https://colab.research.google.com/assets/colab-badge.svg\" alt=\"Open In Colab\"/></a>"
      ]
    },
    {
      "cell_type": "code",
      "metadata": {
        "id": "mZZ_Pa2X_Djg",
        "colab_type": "code",
        "colab": {
          "base_uri": "https://localhost:8080/",
          "height": 34
        },
        "outputId": "9f227a7d-b9e7-4c15-c3e2-1040f05ab1a1"
      },
      "source": [
        "minutes = 105\n",
        "minutes / 60"
      ],
      "execution_count": 2,
      "outputs": [
        {
          "output_type": "execute_result",
          "data": {
            "text/plain": [
              "1.75"
            ]
          },
          "metadata": {
            "tags": []
          },
          "execution_count": 2
        }
      ]
    },
    {
      "cell_type": "code",
      "metadata": {
        "id": "6oGV26o1_wpw",
        "colab_type": "code",
        "colab": {}
      },
      "source": [
        "向下取整除法操作符（//）"
      ],
      "execution_count": 0,
      "outputs": []
    },
    {
      "cell_type": "code",
      "metadata": {
        "id": "-bZpB76r_8Vu",
        "colab_type": "code",
        "colab": {
          "base_uri": "https://localhost:8080/",
          "height": 34
        },
        "outputId": "616f7f8b-7751-4806-feec-dc1ed046f445"
      },
      "source": [
        "minutes = 105\n",
        "hours = minutes // 60\n",
        "hours"
      ],
      "execution_count": 3,
      "outputs": [
        {
          "output_type": "execute_result",
          "data": {
            "text/plain": [
              "1"
            ]
          },
          "metadata": {
            "tags": []
          },
          "execution_count": 3
        }
      ]
    },
    {
      "cell_type": "code",
      "metadata": {
        "id": "w8ivYGB4AQWp",
        "colab_type": "code",
        "colab": {
          "base_uri": "https://localhost:8080/",
          "height": 34
        },
        "outputId": "9cfdf3cf-61dd-43c7-a675-91ace3447d8c"
      },
      "source": [
        "remainer = minutes - hours * 60\n",
        "remainer"
      ],
      "execution_count": 6,
      "outputs": [
        {
          "output_type": "execute_result",
          "data": {
            "text/plain": [
              "45"
            ]
          },
          "metadata": {
            "tags": []
          },
          "execution_count": 6
        }
      ]
    },
    {
      "cell_type": "code",
      "metadata": {
        "id": "OvopmLeNAdDe",
        "colab_type": "code",
        "colab": {
          "base_uri": "https://localhost:8080/",
          "height": 34
        },
        "outputId": "ae16a992-d2a3-45ce-e206-8625ffa31f42"
      },
      "source": [
        "remainer = minutes % 60\n",
        "remainer"
      ],
      "execution_count": 7,
      "outputs": [
        {
          "output_type": "execute_result",
          "data": {
            "text/plain": [
              "45"
            ]
          },
          "metadata": {
            "tags": []
          },
          "execution_count": 7
        }
      ]
    },
    {
      "cell_type": "markdown",
      "metadata": {
        "id": "lDxD-r3qAzr0",
        "colab_type": "text"
      },
      "source": [
        "布尔表达式是值为真或假的表达式"
      ]
    },
    {
      "cell_type": "code",
      "metadata": {
        "id": "wraTgHOdAqtj",
        "colab_type": "code",
        "colab": {
          "base_uri": "https://localhost:8080/",
          "height": 34
        },
        "outputId": "9e5073d2-543a-482e-cb5a-da4c3eb358a5"
      },
      "source": [
        "5 == 5"
      ],
      "execution_count": 1,
      "outputs": [
        {
          "output_type": "execute_result",
          "data": {
            "text/plain": [
              "True"
            ]
          },
          "metadata": {
            "tags": []
          },
          "execution_count": 1
        }
      ]
    },
    {
      "cell_type": "code",
      "metadata": {
        "id": "y7DHjGPllRfm",
        "colab_type": "code",
        "colab": {
          "base_uri": "https://localhost:8080/",
          "height": 34
        },
        "outputId": "09b68756-ae13-446f-80ef-d9b547798f96"
      },
      "source": [
        "5 == 6"
      ],
      "execution_count": 2,
      "outputs": [
        {
          "output_type": "execute_result",
          "data": {
            "text/plain": [
              "False"
            ]
          },
          "metadata": {
            "tags": []
          },
          "execution_count": 2
        }
      ]
    },
    {
      "cell_type": "code",
      "metadata": {
        "id": "ch2q2hkUlX35",
        "colab_type": "code",
        "colab": {
          "base_uri": "https://localhost:8080/",
          "height": 34
        },
        "outputId": "c32c0fbd-f2af-4915-f5a1-02ceb0315660"
      },
      "source": [
        "type(True)"
      ],
      "execution_count": 4,
      "outputs": [
        {
          "output_type": "execute_result",
          "data": {
            "text/plain": [
              "bool"
            ]
          },
          "metadata": {
            "tags": []
          },
          "execution_count": 4
        }
      ]
    },
    {
      "cell_type": "markdown",
      "metadata": {
        "id": "ronHtWyclk2e",
        "colab_type": "text"
      },
      "source": [
        "逻辑操作符有3个：and，or，not。"
      ]
    },
    {
      "cell_type": "code",
      "metadata": {
        "id": "NHn2IqRCl9lY",
        "colab_type": "code",
        "colab": {
          "base_uri": "https://localhost:8080/",
          "height": 34
        },
        "outputId": "ebb5e22d-48d4-4822-91bf-831f9426f0a7"
      },
      "source": [
        "42 and True"
      ],
      "execution_count": 5,
      "outputs": [
        {
          "output_type": "execute_result",
          "data": {
            "text/plain": [
              "True"
            ]
          },
          "metadata": {
            "tags": []
          },
          "execution_count": 5
        }
      ]
    },
    {
      "cell_type": "code",
      "metadata": {
        "id": "SN6wyuyDmEvq",
        "colab_type": "code",
        "colab": {}
      },
      "source": [
        "if x > 0:\n",
        "    print(\"x is positive\")"
      ],
      "execution_count": 0,
      "outputs": []
    },
    {
      "cell_type": "markdown",
      "metadata": {
        "id": "zCCJn7dcmRO8",
        "colab_type": "text"
      },
      "source": [
        "if之后的布尔表达式被称为条件。如果它为真，则之后缩进的语句会运行。否则，什么都不发生。if表达式的结构和函数定义一样。这类语句被称为复合语句。什么都不做使用pass语句。"
      ]
    },
    {
      "cell_type": "code",
      "metadata": {
        "id": "y7H6w6TLm3Am",
        "colab_type": "code",
        "colab": {}
      },
      "source": [
        "if x < 0:\n",
        "    pass"
      ],
      "execution_count": 0,
      "outputs": []
    },
    {
      "cell_type": "code",
      "metadata": {
        "id": "wT8APUgmnKfo",
        "colab_type": "code",
        "colab": {}
      },
      "source": [
        "if x%2 ==0:\n",
        "    print(\"x is even\")\n",
        "else:\n",
        "    print(\"x is odd\")"
      ],
      "execution_count": 0,
      "outputs": []
    },
    {
      "cell_type": "code",
      "metadata": {
        "id": "MbbmWkyaoGcD",
        "colab_type": "code",
        "colab": {}
      },
      "source": [
        "if x < y:\n",
        "    print(\"x is less than y\")\n",
        "elif x > y:\n",
        "    print(\"x is greater than y\")\n",
        "else:\n",
        "    print(\"x and y are equal\")"
      ],
      "execution_count": 0,
      "outputs": []
    },
    {
      "cell_type": "markdown",
      "metadata": {
        "id": "mDfiIX9DojXY",
        "colab_type": "text"
      },
      "source": [
        "elif是else if的缩写。else语句必须放到最后，但可以没有。"
      ]
    },
    {
      "cell_type": "code",
      "metadata": {
        "id": "pKydNrD3o5iX",
        "colab_type": "code",
        "colab": {}
      },
      "source": [
        "if x == y:\n",
        "    print(\"x nad y are equal\")\n",
        "else:\n",
        "    if x < y:\n",
        "        print(\"x is less than y\")\n",
        "    else:\n",
        "        print(\"x is greater than y\")"
      ],
      "execution_count": 0,
      "outputs": []
    },
    {
      "cell_type": "code",
      "metadata": {
        "id": "DurX32aOqaTu",
        "colab_type": "code",
        "colab": {
          "base_uri": "https://localhost:8080/",
          "height": 85
        },
        "outputId": "890c5258-baa5-48ac-e64a-273842c7cf54"
      },
      "source": [
        "def countdown(n):\n",
        "    if n <= 0:\n",
        "        print(\"Blastoff\")\n",
        "    else:\n",
        "        print(n)\n",
        "        countdown(n-1)\n",
        "        \n",
        "countdown(3)"
      ],
      "execution_count": 6,
      "outputs": [
        {
          "output_type": "stream",
          "text": [
            "3\n",
            "2\n",
            "1\n",
            "Blastoff\n"
          ],
          "name": "stdout"
        }
      ]
    },
    {
      "cell_type": "code",
      "metadata": {
        "id": "uuTf4MZirD8L",
        "colab_type": "code",
        "colab": {}
      },
      "source": [
        "def print_n(s, n):\n",
        "    if n <= 0:\n",
        "        return\n",
        "    print(s)\n",
        "    print_n(s, n-1)\n",
        "    \n"
      ],
      "execution_count": 0,
      "outputs": []
    },
    {
      "cell_type": "code",
      "metadata": {
        "id": "x1N6sLQ5rtet",
        "colab_type": "code",
        "colab": {
          "base_uri": "https://localhost:8080/",
          "height": 34
        },
        "outputId": "c02feda3-3685-4e45-d460-bb8bf12e357a"
      },
      "source": [
        "text = input()"
      ],
      "execution_count": 7,
      "outputs": [
        {
          "output_type": "stream",
          "text": [
            "What are you waiting for? \n"
          ],
          "name": "stdout"
        }
      ]
    },
    {
      "cell_type": "code",
      "metadata": {
        "id": "MMtcDDfesEzn",
        "colab_type": "code",
        "colab": {
          "base_uri": "https://localhost:8080/",
          "height": 34
        },
        "outputId": "417c9726-266a-457b-9d21-d18da5c9be6b"
      },
      "source": [
        "text"
      ],
      "execution_count": 8,
      "outputs": [
        {
          "output_type": "execute_result",
          "data": {
            "text/plain": [
              "'What are you waiting for? '"
            ]
          },
          "metadata": {
            "tags": []
          },
          "execution_count": 8
        }
      ]
    },
    {
      "cell_type": "code",
      "metadata": {
        "id": "XyMnUhe0sKdV",
        "colab_type": "code",
        "colab": {
          "base_uri": "https://localhost:8080/",
          "height": 68
        },
        "outputId": "ea3f14ae-ac9a-477e-de07-dd4c39f1ef8c"
      },
      "source": [
        "name = input(\"what is your name?\\n\")\n",
        "name"
      ],
      "execution_count": 11,
      "outputs": [
        {
          "output_type": "stream",
          "text": [
            "what is your name?\n",
            "Jiaqi\n"
          ],
          "name": "stdout"
        },
        {
          "output_type": "execute_result",
          "data": {
            "text/plain": [
              "'Jiaqi'"
            ]
          },
          "metadata": {
            "tags": []
          },
          "execution_count": 11
        }
      ]
    },
    {
      "cell_type": "markdown",
      "metadata": {
        "id": "M5dYGRQFskfO",
        "colab_type": "text"
      },
      "source": [
        "\\n为换行符"
      ]
    },
    {
      "cell_type": "code",
      "metadata": {
        "id": "e_XcF-YusulP",
        "colab_type": "code",
        "colab": {
          "base_uri": "https://localhost:8080/",
          "height": 68
        },
        "outputId": "63b92c59-c348-4c00-e7bb-129b36aff104"
      },
      "source": [
        "prompt = \"What ... is the airspeed velocity of an unladen swallow?\\n\"\n",
        "speed = input(prompt)\n",
        "int(speed)"
      ],
      "execution_count": 15,
      "outputs": [
        {
          "output_type": "stream",
          "text": [
            "What ... is the airspeed velocity of an unladen swallow?\n",
            "42\n"
          ],
          "name": "stdout"
        },
        {
          "output_type": "execute_result",
          "data": {
            "text/plain": [
              "42"
            ]
          },
          "metadata": {
            "tags": []
          },
          "execution_count": 15
        }
      ]
    }
  ]
}