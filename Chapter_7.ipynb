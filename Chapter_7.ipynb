{
  "nbformat": 4,
  "nbformat_minor": 0,
  "metadata": {
    "colab": {
      "name": "Chapter 7.ipynb",
      "version": "0.3.2",
      "provenance": [],
      "collapsed_sections": [],
      "include_colab_link": true
    },
    "kernelspec": {
      "name": "python3",
      "display_name": "Python 3"
    },
    "accelerator": "GPU"
  },
  "cells": [
    {
      "cell_type": "markdown",
      "metadata": {
        "id": "view-in-github",
        "colab_type": "text"
      },
      "source": [
        "<a href=\"https://colab.research.google.com/github/jiaqihriver/Think-Python-Codes/blob/master/Chapter_7.ipynb\" target=\"_parent\"><img src=\"https://colab.research.google.com/assets/colab-badge.svg\" alt=\"Open In Colab\"/></a>"
      ]
    },
    {
      "cell_type": "code",
      "metadata": {
        "id": "zGmBzw04Dr1n",
        "colab_type": "code",
        "outputId": "bfe747ea-44cb-41b4-8c50-43082379a28e",
        "colab": {
          "base_uri": "https://localhost:8080/",
          "height": 34
        }
      },
      "source": [
        "x = 5\n",
        "x"
      ],
      "execution_count": 0,
      "outputs": [
        {
          "output_type": "execute_result",
          "data": {
            "text/plain": [
              "5"
            ]
          },
          "metadata": {
            "tags": []
          },
          "execution_count": 1
        }
      ]
    },
    {
      "cell_type": "code",
      "metadata": {
        "id": "XQz3iI_jEHzI",
        "colab_type": "code",
        "outputId": "579270ae-7386-452e-b8cb-62dca3b6eccb",
        "colab": {
          "base_uri": "https://localhost:8080/",
          "height": 34
        }
      },
      "source": [
        "x = 7\n",
        "x"
      ],
      "execution_count": 0,
      "outputs": [
        {
          "output_type": "execute_result",
          "data": {
            "text/plain": [
              "7"
            ]
          },
          "metadata": {
            "tags": []
          },
          "execution_count": 2
        }
      ]
    },
    {
      "cell_type": "code",
      "metadata": {
        "id": "Ux0CRMf0Eanm",
        "colab_type": "code",
        "colab": {}
      },
      "source": [
        "def countdown(n):\n",
        "    while n > 0:\n",
        "        print(n)\n",
        "        n = n - 1\n",
        "    print(\"Blastoff\")"
      ],
      "execution_count": 0,
      "outputs": []
    },
    {
      "cell_type": "markdown",
      "metadata": {
        "id": "ZUqvaghuEzKG",
        "colab_type": "text"
      },
      "source": [
        "while语句的执行流程：\n",
        "1. 确定条件的真假；\n",
        "2.如果条件为真，运行while语句的语句体，并返回到第一步；\n",
        "3.如果条件为假，退出while语句，并继续执行后面的语句。"
      ]
    },
    {
      "cell_type": "code",
      "metadata": {
        "id": "a4f4yyDGFwfy",
        "colab_type": "code",
        "colab": {}
      },
      "source": [
        "def sequence(n):\n",
        "    while n != 1:\n",
        "        print(n)\n",
        "        if n % 2 = 0:\n",
        "            n = n/2\n",
        "        else:\n",
        "            n = n * 3 + 1 "
      ],
      "execution_count": 0,
      "outputs": []
    },
    {
      "cell_type": "markdown",
      "metadata": {
        "id": "zKYG2XgLZfcs",
        "colab_type": "text"
      },
      "source": [
        "使用break语句跳出循环"
      ]
    },
    {
      "cell_type": "code",
      "metadata": {
        "id": "FbnTXOreYvwz",
        "colab_type": "code",
        "colab": {
          "base_uri": "https://localhost:8080/",
          "height": 85
        },
        "outputId": "dd9c73e9-b872-4d85-863e-8ab8d62c597b"
      },
      "source": [
        "while True:\n",
        "    line = input(\"> \")\n",
        "    if line ==\"done\":\n",
        "        break\n",
        "    print(line)\n",
        "    \n",
        "print(\"Done!\")"
      ],
      "execution_count": 1,
      "outputs": [
        {
          "output_type": "stream",
          "text": [
            "> good\n",
            "good\n",
            "> done\n",
            "Done!\n"
          ],
          "name": "stdout"
        }
      ]
    },
    {
      "cell_type": "code",
      "metadata": {
        "id": "HBRi-GGuZvtl",
        "colab_type": "code",
        "colab": {
          "base_uri": "https://localhost:8080/",
          "height": 34
        },
        "outputId": "9122403a-49dd-478a-a01c-b81d790c4874"
      },
      "source": [
        "a = 4\n",
        "x = 3\n",
        "y = (x + a / x) / 2\n",
        "y"
      ],
      "execution_count": 2,
      "outputs": [
        {
          "output_type": "execute_result",
          "data": {
            "text/plain": [
              "2.1666666666666665"
            ]
          },
          "metadata": {
            "tags": []
          },
          "execution_count": 2
        }
      ]
    },
    {
      "cell_type": "code",
      "metadata": {
        "id": "9xwMN2-LaBHg",
        "colab_type": "code",
        "colab": {
          "base_uri": "https://localhost:8080/",
          "height": 34
        },
        "outputId": "af74c627-9104-47f6-dcc9-2ad9e776646b"
      },
      "source": [
        "x = y \n",
        "y = (x + a / x) / 2\n",
        "y"
      ],
      "execution_count": 3,
      "outputs": [
        {
          "output_type": "execute_result",
          "data": {
            "text/plain": [
              "2.0064102564102564"
            ]
          },
          "metadata": {
            "tags": []
          },
          "execution_count": 3
        }
      ]
    },
    {
      "cell_type": "code",
      "metadata": {
        "id": "2nyyWhy2aKE9",
        "colab_type": "code",
        "colab": {
          "base_uri": "https://localhost:8080/",
          "height": 34
        },
        "outputId": "689a75da-21d2-4b63-c9b0-4034aadb9fd9"
      },
      "source": [
        "x = y \n",
        "y = (x + a / x) / 2\n",
        "y"
      ],
      "execution_count": 4,
      "outputs": [
        {
          "output_type": "execute_result",
          "data": {
            "text/plain": [
              "2.0000102400262145"
            ]
          },
          "metadata": {
            "tags": []
          },
          "execution_count": 4
        }
      ]
    },
    {
      "cell_type": "markdown",
      "metadata": {
        "id": "SSkBfcoFaUvu",
        "colab_type": "text"
      },
      "source": [
        "利用牛顿法多做几次，估值会更加精确。当y==x时，利用break语句跳出。"
      ]
    },
    {
      "cell_type": "code",
      "metadata": {
        "id": "r6DbT2iJaUZA",
        "colab_type": "code",
        "colab": {
          "base_uri": "https://localhost:8080/",
          "height": 85
        },
        "outputId": "747ebb8f-95d7-41f4-c53f-96c76e076790"
      },
      "source": [
        "while True:\n",
        "    print(x)\n",
        "    y = (x + a/x)/2\n",
        "    if y==x:\n",
        "        break\n",
        "    x = y"
      ],
      "execution_count": 5,
      "outputs": [
        {
          "output_type": "stream",
          "text": [
            "2.0064102564102564\n",
            "2.0000102400262145\n",
            "2.0000000000262146\n",
            "2.0\n"
          ],
          "name": "stdout"
        }
      ]
    },
    {
      "cell_type": "markdown",
      "metadata": {
        "id": "z1HXFzq_bSuT",
        "colab_type": "text"
      },
      "source": [
        "测试float的相等是十分危险的。更安全的方法是利用内置函数abs来计算它们之间的差值，epsilon的值为0.0000001，精度足够。"
      ]
    },
    {
      "cell_type": "code",
      "metadata": {
        "id": "48n3J727b1Du",
        "colab_type": "code",
        "colab": {}
      },
      "source": [
        "if abs(y - x) < eplsilon:\n",
        "    break"
      ],
      "execution_count": 0,
      "outputs": []
    }
  ]
}