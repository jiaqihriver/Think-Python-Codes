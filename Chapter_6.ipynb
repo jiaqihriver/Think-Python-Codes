{
  "nbformat": 4,
  "nbformat_minor": 0,
  "metadata": {
    "colab": {
      "name": "Chapter 6.ipynb",
      "version": "0.3.2",
      "provenance": [],
      "collapsed_sections": [],
      "include_colab_link": true
    },
    "kernelspec": {
      "name": "python3",
      "display_name": "Python 3"
    }
  },
  "cells": [
    {
      "cell_type": "markdown",
      "metadata": {
        "id": "view-in-github",
        "colab_type": "text"
      },
      "source": [
        "<a href=\"https://colab.research.google.com/github/jiaqihriver/Think-Python-Codes/blob/master/Chapter_6.ipynb\" target=\"_parent\"><img src=\"https://colab.research.google.com/assets/colab-badge.svg\" alt=\"Open In Colab\"/></a>"
      ]
    },
    {
      "cell_type": "code",
      "metadata": {
        "id": "x72___BwPIjw",
        "colab_type": "code",
        "colab": {}
      },
      "source": [
        "import math\n",
        "def area(radius):\n",
        "    a = math.pi * radius ** 2\n",
        "    return a"
      ],
      "execution_count": 0,
      "outputs": []
    },
    {
      "cell_type": "code",
      "metadata": {
        "id": "ru8-6eKBcYkQ",
        "colab_type": "code",
        "colab": {}
      },
      "source": [
        "def absolute_value(x):\n",
        "    if x < 0:\n",
        "        return -x\n",
        "    else:\n",
        "        return x"
      ],
      "execution_count": 0,
      "outputs": []
    },
    {
      "cell_type": "markdown",
      "metadata": {
        "id": "4Sj6NV1Vdai8",
        "colab_type": "text"
      },
      "source": [
        "增量开发：通过每次只增加和测试一小段代码，来避免长时间的调试过程。"
      ]
    },
    {
      "cell_type": "code",
      "metadata": {
        "id": "luxSrXxbc6Y0",
        "colab_type": "code",
        "colab": {
          "base_uri": "https://localhost:8080/",
          "height": 68
        },
        "outputId": "6e9defbb-08e3-40a8-d158-b4b939ede37c"
      },
      "source": [
        "def distance(x1, y1, x2, y2):\n",
        "    dx = x2-x1\n",
        "    dy = y2-y1\n",
        "    print(\"dx is\", dx)\n",
        "    print(\"dy is\", dy)\n",
        "    return 0\n",
        "\n",
        "distance(1, 2, 4, 6)"
      ],
      "execution_count": 2,
      "outputs": [
        {
          "output_type": "stream",
          "text": [
            "dx is 3\n",
            "dy is 4\n"
          ],
          "name": "stdout"
        },
        {
          "output_type": "execute_result",
          "data": {
            "text/plain": [
              "0"
            ]
          },
          "metadata": {
            "tags": []
          },
          "execution_count": 2
        }
      ]
    },
    {
      "cell_type": "code",
      "metadata": {
        "id": "Fh1kbdSCdy8H",
        "colab_type": "code",
        "colab": {
          "base_uri": "https://localhost:8080/",
          "height": 51
        },
        "outputId": "00d112bd-e128-4198-8692-92857ccfaa25"
      },
      "source": [
        "def distance(x1, y1, x2, y2):\n",
        "    dx = x2-x1\n",
        "    dy = y2-y1\n",
        "    dsquared = dx ** 2 + dy **2\n",
        "    print(\"dsquared is\", dsquared)\n",
        "    return 0\n",
        "\n",
        "distance(1, 2, 4, 6)"
      ],
      "execution_count": 3,
      "outputs": [
        {
          "output_type": "stream",
          "text": [
            "dsquared is 25\n"
          ],
          "name": "stdout"
        },
        {
          "output_type": "execute_result",
          "data": {
            "text/plain": [
              "0"
            ]
          },
          "metadata": {
            "tags": []
          },
          "execution_count": 3
        }
      ]
    },
    {
      "cell_type": "code",
      "metadata": {
        "id": "w3K9MdV9ermT",
        "colab_type": "code",
        "colab": {
          "base_uri": "https://localhost:8080/",
          "height": 34
        },
        "outputId": "77112d26-c112-4772-b366-33a7b7b3b120"
      },
      "source": [
        "import math\n",
        "\n",
        "def area(radius):\n",
        "    a = math.pi * radius ** 2\n",
        "    return a\n",
        "\n",
        "def distance(x1, y1, x2, y2):\n",
        "    dx = x2-x1\n",
        "    dy = y2-y1\n",
        "    dsquared = dx ** 2 + dy **2\n",
        "    result = math.sqrt(dsquared) \n",
        "    return result\n",
        "\n",
        "def circle_area(xc, yc, xp, yp):\n",
        "    radius = distance(xc, yc, xp, yp)\n",
        "    result = area(radius)\n",
        "    return result\n",
        "\n",
        "circle_area(1, 2, 4, 6)"
      ],
      "execution_count": 8,
      "outputs": [
        {
          "output_type": "execute_result",
          "data": {
            "text/plain": [
              "78.53981633974483"
            ]
          },
          "metadata": {
            "tags": []
          },
          "execution_count": 8
        }
      ]
    },
    {
      "cell_type": "code",
      "metadata": {
        "id": "RBwrSEu-gc8l",
        "colab_type": "code",
        "colab": {
          "base_uri": "https://localhost:8080/",
          "height": 34
        },
        "outputId": "843dfba0-5723-414d-a0cb-7a593f91288e"
      },
      "source": [
        "def is_divisible(x, y):\n",
        "    if x % y == 0:\n",
        "        return True\n",
        "    else:\n",
        "        return False\n",
        "    \n",
        "is_divisible(6, 4)\n"
      ],
      "execution_count": 12,
      "outputs": [
        {
          "output_type": "execute_result",
          "data": {
            "text/plain": [
              "False"
            ]
          },
          "metadata": {
            "tags": []
          },
          "execution_count": 12
        }
      ]
    },
    {
      "cell_type": "code",
      "metadata": {
        "id": "9TS5waoehI2z",
        "colab_type": "code",
        "colab": {
          "base_uri": "https://localhost:8080/",
          "height": 34
        },
        "outputId": "bc0ad85a-6a7f-4a7a-ee11-eeef67128c2b"
      },
      "source": [
        "is_divisible(6, 3)"
      ],
      "execution_count": 13,
      "outputs": [
        {
          "output_type": "execute_result",
          "data": {
            "text/plain": [
              "True"
            ]
          },
          "metadata": {
            "tags": []
          },
          "execution_count": 13
        }
      ]
    },
    {
      "cell_type": "code",
      "metadata": {
        "id": "QxgpSj1XhKfi",
        "colab_type": "code",
        "colab": {
          "base_uri": "https://localhost:8080/",
          "height": 34
        },
        "outputId": "f3d5e207-91ae-451d-d714-2e198aebc63f"
      },
      "source": [
        "def factorial(n):\n",
        "    if n == 0:\n",
        "        return 1\n",
        "    else:\n",
        "        return n*factorial(n-1)\n",
        "\n",
        "factorial(5)"
      ],
      "execution_count": 16,
      "outputs": [
        {
          "output_type": "execute_result",
          "data": {
            "text/plain": [
              "120"
            ]
          },
          "metadata": {
            "tags": []
          },
          "execution_count": 16
        }
      ]
    },
    {
      "cell_type": "code",
      "metadata": {
        "id": "4t3TBsr5if1u",
        "colab_type": "code",
        "colab": {
          "base_uri": "https://localhost:8080/",
          "height": 34
        },
        "outputId": "c3d1601a-6f79-475b-d290-f426ae2e2bae"
      },
      "source": [
        "def fibonacci(n):\n",
        "    if n == 0:\n",
        "        return 0\n",
        "    elif n == 1:\n",
        "        return 1\n",
        "    else:\n",
        "        return fibonacci(n-1) + fibonacci(n-2)\n",
        "    \n",
        "fibonacci(7)"
      ],
      "execution_count": 15,
      "outputs": [
        {
          "output_type": "execute_result",
          "data": {
            "text/plain": [
              "13"
            ]
          },
          "metadata": {
            "tags": []
          },
          "execution_count": 15
        }
      ]
    },
    {
      "cell_type": "markdown",
      "metadata": {
        "id": "uJwB0IIljiRz",
        "colab_type": "text"
      },
      "source": [
        "检查类型，可使用内置函数isinstance来检查实参的类型。"
      ]
    },
    {
      "cell_type": "code",
      "metadata": {
        "id": "0m2RLkqYjhlv",
        "colab_type": "code",
        "colab": {
          "base_uri": "https://localhost:8080/",
          "height": 34
        },
        "outputId": "e1ae4a93-21b7-4025-9168-38637e8788cf"
      },
      "source": [
        "def factorial(n):\n",
        "    if not isinstance(n , int):\n",
        "        print(\"Factorial is only defined for integers.\")\n",
        "        return None\n",
        "    elif n < 0:\n",
        "        print(\"Factorial is not defined for nagative integers.\")\n",
        "        return None\n",
        "    elif n == 0:\n",
        "        return 1\n",
        "    else:\n",
        "        return n * factorial(n-1)\n",
        "    \n",
        "factorial(\"fred\")"
      ],
      "execution_count": 18,
      "outputs": [
        {
          "output_type": "stream",
          "text": [
            "Factorial is only defined for integers.\n"
          ],
          "name": "stdout"
        }
      ]
    },
    {
      "cell_type": "code",
      "metadata": {
        "id": "nIowWI4hlhPM",
        "colab_type": "code",
        "colab": {
          "base_uri": "https://localhost:8080/",
          "height": 34
        },
        "outputId": "3671da61-d6e4-4701-b208-1d6cc26506b7"
      },
      "source": [
        "factorial(-2)"
      ],
      "execution_count": 19,
      "outputs": [
        {
          "output_type": "stream",
          "text": [
            "Factorial is not defined for nagative integers.\n"
          ],
          "name": "stdout"
        }
      ]
    }
  ]
}