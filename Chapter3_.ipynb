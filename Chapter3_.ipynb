{
  "nbformat": 4,
  "nbformat_minor": 0,
  "metadata": {
    "colab": {
      "name": "Chapter3 .ipynb",
      "version": "0.3.2",
      "provenance": [],
      "collapsed_sections": [],
      "include_colab_link": true
    },
    "kernelspec": {
      "name": "python3",
      "display_name": "Python 3"
    }
  },
  "cells": [
    {
      "cell_type": "markdown",
      "metadata": {
        "id": "view-in-github",
        "colab_type": "text"
      },
      "source": [
        "<a href=\"https://colab.research.google.com/github/jiaqihriver/Think-Python-Codes/blob/master/Chapter3_.ipynb\" target=\"_parent\"><img src=\"https://colab.research.google.com/assets/colab-badge.svg\" alt=\"Open In Colab\"/></a>"
      ]
    },
    {
      "cell_type": "code",
      "metadata": {
        "id": "bzbMwsIE7mo8",
        "colab_type": "code",
        "outputId": "44d6df58-63c0-43ac-cf14-807d75e893bb",
        "colab": {
          "base_uri": "https://localhost:8080/",
          "height": 34
        }
      },
      "source": [
        "int(3.999)"
      ],
      "execution_count": 0,
      "outputs": [
        {
          "output_type": "execute_result",
          "data": {
            "text/plain": [
              "3"
            ]
          },
          "metadata": {
            "tags": []
          },
          "execution_count": 6
        }
      ]
    },
    {
      "cell_type": "code",
      "metadata": {
        "id": "c1aNIoFj7qgQ",
        "colab_type": "code",
        "outputId": "fdd120c8-0399-4e3b-a654-3b07315abca8",
        "colab": {
          "base_uri": "https://localhost:8080/",
          "height": 34
        }
      },
      "source": [
        "int(-2.3)"
      ],
      "execution_count": 0,
      "outputs": [
        {
          "output_type": "execute_result",
          "data": {
            "text/plain": [
              "-2"
            ]
          },
          "metadata": {
            "tags": []
          },
          "execution_count": 7
        }
      ]
    },
    {
      "cell_type": "code",
      "metadata": {
        "id": "6SaGQgq67xev",
        "colab_type": "code",
        "outputId": "24557e1a-e316-4bb4-a54e-91aceb4dd733",
        "colab": {
          "base_uri": "https://localhost:8080/",
          "height": 34
        }
      },
      "source": [
        "float(32)"
      ],
      "execution_count": 0,
      "outputs": [
        {
          "output_type": "execute_result",
          "data": {
            "text/plain": [
              "32.0"
            ]
          },
          "metadata": {
            "tags": []
          },
          "execution_count": 8
        }
      ]
    },
    {
      "cell_type": "code",
      "metadata": {
        "id": "4lHwDN0H70x4",
        "colab_type": "code",
        "outputId": "5a72a031-d66e-43ca-97de-f951e4b889e6",
        "colab": {
          "base_uri": "https://localhost:8080/",
          "height": 34
        }
      },
      "source": [
        "float(\"3.1415926\")"
      ],
      "execution_count": 0,
      "outputs": [
        {
          "output_type": "execute_result",
          "data": {
            "text/plain": [
              "3.1415926"
            ]
          },
          "metadata": {
            "tags": []
          },
          "execution_count": 9
        }
      ]
    },
    {
      "cell_type": "code",
      "metadata": {
        "id": "vFZB9nPi8IIl",
        "colab_type": "code",
        "outputId": "01ca4969-00a9-4a44-c919-8b1547590c80",
        "colab": {
          "base_uri": "https://localhost:8080/",
          "height": 34
        }
      },
      "source": [
        "str(32)"
      ],
      "execution_count": 0,
      "outputs": [
        {
          "output_type": "execute_result",
          "data": {
            "text/plain": [
              "'32'"
            ]
          },
          "metadata": {
            "tags": []
          },
          "execution_count": 10
        }
      ]
    },
    {
      "cell_type": "code",
      "metadata": {
        "id": "q5eNiACP8L0U",
        "colab_type": "code",
        "outputId": "fc6d1096-6d7d-41be-a78f-905b5772ba1b",
        "colab": {
          "base_uri": "https://localhost:8080/",
          "height": 34
        }
      },
      "source": [
        "str(3.1415926)"
      ],
      "execution_count": 0,
      "outputs": [
        {
          "output_type": "execute_result",
          "data": {
            "text/plain": [
              "'3.1415926'"
            ]
          },
          "metadata": {
            "tags": []
          },
          "execution_count": 11
        }
      ]
    },
    {
      "cell_type": "code",
      "metadata": {
        "id": "BKh0o3bn8SgW",
        "colab_type": "code",
        "outputId": "99ab528a-c025-42b6-a144-213b61efaf12",
        "colab": {
          "base_uri": "https://localhost:8080/",
          "height": 34
        }
      },
      "source": [
        "import math\n",
        "math"
      ],
      "execution_count": 0,
      "outputs": [
        {
          "output_type": "execute_result",
          "data": {
            "text/plain": [
              "<module 'math' (built-in)>"
            ]
          },
          "metadata": {
            "tags": []
          },
          "execution_count": 12
        }
      ]
    },
    {
      "cell_type": "markdown",
      "metadata": {
        "id": "PR69OOzG8fnv",
        "colab_type": "text"
      },
      "source": [
        "引入math模块\n",
        "当访问一个函数时，需要同时指定模块名称和函数名称。"
      ]
    },
    {
      "cell_type": "code",
      "metadata": {
        "id": "MlZMmnFo9CzH",
        "colab_type": "code",
        "colab": {}
      },
      "source": [
        "ratio = signal_power / noise_power\n",
        "decibels = 10 * math.log10(ratio)\n",
        "\n",
        "radians = 0.7\n",
        "height = math.sin(radians)"
      ],
      "execution_count": 0,
      "outputs": []
    },
    {
      "cell_type": "code",
      "metadata": {
        "id": "d53ythtu-DzF",
        "colab_type": "code",
        "outputId": "ba1ab1a9-1d66-4dca-c216-a8a4de85c823",
        "colab": {
          "base_uri": "https://localhost:8080/",
          "height": 34
        }
      },
      "source": [
        "degree = 45\n",
        "radians = degree /180.0 * math.pi\n",
        "math.sin(radians)"
      ],
      "execution_count": 0,
      "outputs": [
        {
          "output_type": "execute_result",
          "data": {
            "text/plain": [
              "0.7071067811865475"
            ]
          },
          "metadata": {
            "tags": []
          },
          "execution_count": 14
        }
      ]
    },
    {
      "cell_type": "code",
      "metadata": {
        "id": "zuTTL-46-Kso",
        "colab_type": "code",
        "outputId": "22eae001-c32b-4c66-df21-8396e6e77a80",
        "colab": {
          "base_uri": "https://localhost:8080/",
          "height": 34
        }
      },
      "source": [
        "math.sqrt(2) / 2.0"
      ],
      "execution_count": 0,
      "outputs": [
        {
          "output_type": "execute_result",
          "data": {
            "text/plain": [
              "0.7071067811865476"
            ]
          },
          "metadata": {
            "tags": []
          },
          "execution_count": 15
        }
      ]
    },
    {
      "cell_type": "code",
      "metadata": {
        "id": "t8eNT53e-awD",
        "colab_type": "code",
        "colab": {}
      },
      "source": [
        "x = math.sin(degree / 360.0 * 2 * math.pi)\n",
        "x = math.exp(math.log(x + 1))"
      ],
      "execution_count": 0,
      "outputs": []
    },
    {
      "cell_type": "markdown",
      "metadata": {
        "id": "n9_8uk_j-3at",
        "colab_type": "text"
      },
      "source": [
        "除了使用python提供的函数，还可以自定函数。"
      ]
    },
    {
      "cell_type": "code",
      "metadata": {
        "id": "JCVWnJwJ_CGL",
        "colab_type": "code",
        "outputId": "480b4148-299f-4f19-81c7-8efddfed1589",
        "colab": {
          "base_uri": "https://localhost:8080/",
          "height": 51
        }
      },
      "source": [
        "def print_lyrics():\n",
        "    print(\"I 'm a lumberkack, and I 'm okay\")\n",
        "    print(\"I sleep all night and I work all day\")\n",
        "\n",
        "print_lyrics()"
      ],
      "execution_count": 0,
      "outputs": [
        {
          "output_type": "stream",
          "text": [
            "I 'm a lumberkack, and I 'm okay\n",
            "I sleep all night and I work all day\n"
          ],
          "name": "stdout"
        }
      ]
    },
    {
      "cell_type": "markdown",
      "metadata": {
        "id": "RL7JiiLTpZ9W",
        "colab_type": "text"
      },
      "source": [
        "函数结束后需要一个空行"
      ]
    },
    {
      "cell_type": "code",
      "metadata": {
        "id": "hbTvQTbGAKwd",
        "colab_type": "code",
        "outputId": "c5d06652-8fc0-420c-b5ca-4f710da9fb1d",
        "colab": {
          "base_uri": "https://localhost:8080/",
          "height": 85
        }
      },
      "source": [
        "def repeat_lyrics():\n",
        "    print_lyrics()\n",
        "    print_lyrics()\n",
        "    \n",
        "repeat_lyrics()"
      ],
      "execution_count": 0,
      "outputs": [
        {
          "output_type": "stream",
          "text": [
            "I 'm a lumberkack, and I 'm okay\n",
            "I sleep all night and I work all day\n",
            "I 'm a lumberkack, and I 'm okay\n",
            "I sleep all night and I work all day\n"
          ],
          "name": "stdout"
        }
      ]
    },
    {
      "cell_type": "markdown",
      "metadata": {
        "id": "7sDO3N-MqBQK",
        "colab_type": "text"
      },
      "source": [
        "执行总是从程序的第一行开始，语句按从上到下的顺序逐一执行。函数定义并不会改变程序的执行流程，而是等到被调用时才运行。\n",
        "\n",
        "阅读代码时，应按照流程来读。"
      ]
    },
    {
      "cell_type": "code",
      "metadata": {
        "id": "4DmNYJHiq7rm",
        "colab_type": "code",
        "colab": {
          "base_uri": "https://localhost:8080/",
          "height": 119
        },
        "outputId": "6a732887-f399-4884-896b-b2be0d267725"
      },
      "source": [
        "import math\n",
        "def print_twice(bruce):\n",
        "    print(bruce)\n",
        "    print(bruce)\n",
        "    \n",
        "print_twice(\"Spam\")\n",
        "print_twice(42)\n",
        "print_twice(math.pi)"
      ],
      "execution_count": 3,
      "outputs": [
        {
          "output_type": "stream",
          "text": [
            "Spam\n",
            "Spam\n",
            "42\n",
            "42\n",
            "3.141592653589793\n",
            "3.141592653589793\n"
          ],
          "name": "stdout"
        }
      ]
    },
    {
      "cell_type": "markdown",
      "metadata": {
        "id": "WwKY5-_OsIYl",
        "colab_type": "text"
      },
      "source": [
        "在函数内部，实参会赋值给形参的变量（bruce）。"
      ]
    },
    {
      "cell_type": "code",
      "metadata": {
        "id": "6lt6fTKxsf7v",
        "colab_type": "code",
        "colab": {
          "base_uri": "https://localhost:8080/",
          "height": 51
        },
        "outputId": "8fd45fa9-a8d3-4256-abd5-2ab54efa8538"
      },
      "source": [
        "print_twice(\"Spam \" * 4)"
      ],
      "execution_count": 5,
      "outputs": [
        {
          "output_type": "stream",
          "text": [
            "Spam Spam Spam Spam \n",
            "Spam Spam Spam Spam \n"
          ],
          "name": "stdout"
        }
      ]
    },
    {
      "cell_type": "code",
      "metadata": {
        "id": "AVRC_hmaswU8",
        "colab_type": "code",
        "colab": {
          "base_uri": "https://localhost:8080/",
          "height": 51
        },
        "outputId": "df9497ce-eeaf-4c19-f30f-28409dad28bd"
      },
      "source": [
        "print_twice(math.cos(math.pi))"
      ],
      "execution_count": 6,
      "outputs": [
        {
          "output_type": "stream",
          "text": [
            "-1.0\n",
            "-1.0\n"
          ],
          "name": "stdout"
        }
      ]
    },
    {
      "cell_type": "code",
      "metadata": {
        "id": "ObKglGr7s-tz",
        "colab_type": "code",
        "colab": {
          "base_uri": "https://localhost:8080/",
          "height": 51
        },
        "outputId": "f7cf8d5f-30fe-4edd-f016-ebd1d4b8b499"
      },
      "source": [
        "michael = \"Eric, the half a bee.\"\n",
        "print_twice(michael)"
      ],
      "execution_count": 7,
      "outputs": [
        {
          "output_type": "stream",
          "text": [
            "Eric, the half a bee.\n",
            "Eric, the half a bee.\n"
          ],
          "name": "stdout"
        }
      ]
    },
    {
      "cell_type": "markdown",
      "metadata": {
        "id": "xd2eu2xttVcn",
        "colab_type": "text"
      },
      "source": [
        "在函数体内新建一个变量时，这个变量是局部的（local），即它只存在于这个函数之内。形参也是局部的，例如，在print_twice函数之外，不存在bruce这个变量。"
      ]
    },
    {
      "cell_type": "code",
      "metadata": {
        "id": "SomJVgm2uLOS",
        "colab_type": "code",
        "colab": {
          "base_uri": "https://localhost:8080/",
          "height": 51
        },
        "outputId": "68e79721-ae4d-43ba-8d3a-d6fee052a8c0"
      },
      "source": [
        "def cat_twice(part1 , part2):\n",
        "    cat = part1 + part2\n",
        "    print_twice(cat)\n",
        "    \n",
        "line1 = \"Bing tiddle\"\n",
        "line2 = \"tiddle bang\"\n",
        "cat_twice(line1 , line2)"
      ],
      "execution_count": 8,
      "outputs": [
        {
          "output_type": "stream",
          "text": [
            "Bing tiddletiddle bang\n",
            "Bing tiddletiddle bang\n"
          ],
          "name": "stdout"
        }
      ]
    },
    {
      "cell_type": "code",
      "metadata": {
        "id": "GQr4aSvAu3eY",
        "colab_type": "code",
        "colab": {
          "base_uri": "https://localhost:8080/",
          "height": 164
        },
        "outputId": "f1bccd1a-eb81-4d2b-a88e-8c61227c001d"
      },
      "source": [
        "print(cat)"
      ],
      "execution_count": 9,
      "outputs": [
        {
          "output_type": "error",
          "ename": "NameError",
          "evalue": "ignored",
          "traceback": [
            "\u001b[0;31m---------------------------------------------------------------------------\u001b[0m",
            "\u001b[0;31mNameError\u001b[0m                                 Traceback (most recent call last)",
            "\u001b[0;32m<ipython-input-9-34599fba884e>\u001b[0m in \u001b[0;36m<module>\u001b[0;34m()\u001b[0m\n\u001b[0;32m----> 1\u001b[0;31m \u001b[0mprint\u001b[0m\u001b[0;34m(\u001b[0m\u001b[0mcat\u001b[0m\u001b[0;34m)\u001b[0m\u001b[0;34m\u001b[0m\u001b[0;34m\u001b[0m\u001b[0m\n\u001b[0m",
            "\u001b[0;31mNameError\u001b[0m: name 'cat' is not defined"
          ]
        }
      ]
    }
  ]
}