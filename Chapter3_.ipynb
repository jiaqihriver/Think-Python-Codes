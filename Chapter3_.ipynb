{
  "nbformat": 4,
  "nbformat_minor": 0,
  "metadata": {
    "colab": {
      "name": "Chapter3 .ipynb",
      "version": "0.3.2",
      "provenance": [],
      "collapsed_sections": [],
      "include_colab_link": true
    },
    "kernelspec": {
      "name": "python3",
      "display_name": "Python 3"
    }
  },
  "cells": [
    {
      "cell_type": "markdown",
      "metadata": {
        "id": "view-in-github",
        "colab_type": "text"
      },
      "source": [
        "<a href=\"https://colab.research.google.com/github/jiaqihriver/Think-Python-Codes/blob/master/Chapter3_.ipynb\" target=\"_parent\"><img src=\"https://colab.research.google.com/assets/colab-badge.svg\" alt=\"Open In Colab\"/></a>"
      ]
    },
    {
      "cell_type": "code",
      "metadata": {
        "id": "bzbMwsIE7mo8",
        "colab_type": "code",
        "colab": {
          "base_uri": "https://localhost:8080/",
          "height": 34
        },
        "outputId": "44d6df58-63c0-43ac-cf14-807d75e893bb"
      },
      "source": [
        "int(3.999)"
      ],
      "execution_count": 6,
      "outputs": [
        {
          "output_type": "execute_result",
          "data": {
            "text/plain": [
              "3"
            ]
          },
          "metadata": {
            "tags": []
          },
          "execution_count": 6
        }
      ]
    },
    {
      "cell_type": "code",
      "metadata": {
        "id": "c1aNIoFj7qgQ",
        "colab_type": "code",
        "colab": {
          "base_uri": "https://localhost:8080/",
          "height": 34
        },
        "outputId": "fdd120c8-0399-4e3b-a654-3b07315abca8"
      },
      "source": [
        "int(-2.3)"
      ],
      "execution_count": 7,
      "outputs": [
        {
          "output_type": "execute_result",
          "data": {
            "text/plain": [
              "-2"
            ]
          },
          "metadata": {
            "tags": []
          },
          "execution_count": 7
        }
      ]
    },
    {
      "cell_type": "code",
      "metadata": {
        "id": "6SaGQgq67xev",
        "colab_type": "code",
        "colab": {
          "base_uri": "https://localhost:8080/",
          "height": 34
        },
        "outputId": "24557e1a-e316-4bb4-a54e-91aceb4dd733"
      },
      "source": [
        "float(32)"
      ],
      "execution_count": 8,
      "outputs": [
        {
          "output_type": "execute_result",
          "data": {
            "text/plain": [
              "32.0"
            ]
          },
          "metadata": {
            "tags": []
          },
          "execution_count": 8
        }
      ]
    },
    {
      "cell_type": "code",
      "metadata": {
        "id": "4lHwDN0H70x4",
        "colab_type": "code",
        "colab": {
          "base_uri": "https://localhost:8080/",
          "height": 34
        },
        "outputId": "5a72a031-d66e-43ca-97de-f951e4b889e6"
      },
      "source": [
        "float(\"3.1415926\")"
      ],
      "execution_count": 9,
      "outputs": [
        {
          "output_type": "execute_result",
          "data": {
            "text/plain": [
              "3.1415926"
            ]
          },
          "metadata": {
            "tags": []
          },
          "execution_count": 9
        }
      ]
    },
    {
      "cell_type": "code",
      "metadata": {
        "id": "vFZB9nPi8IIl",
        "colab_type": "code",
        "colab": {
          "base_uri": "https://localhost:8080/",
          "height": 34
        },
        "outputId": "01ca4969-00a9-4a44-c919-8b1547590c80"
      },
      "source": [
        "str(32)"
      ],
      "execution_count": 10,
      "outputs": [
        {
          "output_type": "execute_result",
          "data": {
            "text/plain": [
              "'32'"
            ]
          },
          "metadata": {
            "tags": []
          },
          "execution_count": 10
        }
      ]
    },
    {
      "cell_type": "code",
      "metadata": {
        "id": "q5eNiACP8L0U",
        "colab_type": "code",
        "colab": {
          "base_uri": "https://localhost:8080/",
          "height": 34
        },
        "outputId": "fc6d1096-6d7d-41be-a78f-905b5772ba1b"
      },
      "source": [
        "str(3.1415926)"
      ],
      "execution_count": 11,
      "outputs": [
        {
          "output_type": "execute_result",
          "data": {
            "text/plain": [
              "'3.1415926'"
            ]
          },
          "metadata": {
            "tags": []
          },
          "execution_count": 11
        }
      ]
    },
    {
      "cell_type": "code",
      "metadata": {
        "id": "BKh0o3bn8SgW",
        "colab_type": "code",
        "colab": {
          "base_uri": "https://localhost:8080/",
          "height": 34
        },
        "outputId": "99ab528a-c025-42b6-a144-213b61efaf12"
      },
      "source": [
        "import math\n",
        "math"
      ],
      "execution_count": 12,
      "outputs": [
        {
          "output_type": "execute_result",
          "data": {
            "text/plain": [
              "<module 'math' (built-in)>"
            ]
          },
          "metadata": {
            "tags": []
          },
          "execution_count": 12
        }
      ]
    },
    {
      "cell_type": "markdown",
      "metadata": {
        "id": "PR69OOzG8fnv",
        "colab_type": "text"
      },
      "source": [
        "引入math模块\n",
        "当访问一个函数时，需要同时指定模块名称和函数名称。"
      ]
    },
    {
      "cell_type": "code",
      "metadata": {
        "id": "MlZMmnFo9CzH",
        "colab_type": "code",
        "colab": {}
      },
      "source": [
        "ratio = signal_power / noise_power\n",
        "decibels = 10 * math.log10(ratio)\n",
        "\n",
        "radians = 0.7\n",
        "height = math.sin(radians)"
      ],
      "execution_count": 0,
      "outputs": []
    },
    {
      "cell_type": "code",
      "metadata": {
        "id": "d53ythtu-DzF",
        "colab_type": "code",
        "colab": {
          "base_uri": "https://localhost:8080/",
          "height": 34
        },
        "outputId": "ba1ab1a9-1d66-4dca-c216-a8a4de85c823"
      },
      "source": [
        "degree = 45\n",
        "radians = degree /180.0 * math.pi\n",
        "math.sin(radians)"
      ],
      "execution_count": 14,
      "outputs": [
        {
          "output_type": "execute_result",
          "data": {
            "text/plain": [
              "0.7071067811865475"
            ]
          },
          "metadata": {
            "tags": []
          },
          "execution_count": 14
        }
      ]
    },
    {
      "cell_type": "code",
      "metadata": {
        "id": "zuTTL-46-Kso",
        "colab_type": "code",
        "colab": {
          "base_uri": "https://localhost:8080/",
          "height": 34
        },
        "outputId": "22eae001-c32b-4c66-df21-8396e6e77a80"
      },
      "source": [
        "math.sqrt(2) / 2.0"
      ],
      "execution_count": 15,
      "outputs": [
        {
          "output_type": "execute_result",
          "data": {
            "text/plain": [
              "0.7071067811865476"
            ]
          },
          "metadata": {
            "tags": []
          },
          "execution_count": 15
        }
      ]
    },
    {
      "cell_type": "code",
      "metadata": {
        "id": "t8eNT53e-awD",
        "colab_type": "code",
        "colab": {}
      },
      "source": [
        "x = math.sin(degree / 360.0 * 2 * math.pi)\n",
        "x = math.exp(math.log(x + 1))"
      ],
      "execution_count": 0,
      "outputs": []
    },
    {
      "cell_type": "markdown",
      "metadata": {
        "id": "n9_8uk_j-3at",
        "colab_type": "text"
      },
      "source": [
        "除了使用python提供的函数，还可以自定函数。"
      ]
    },
    {
      "cell_type": "code",
      "metadata": {
        "id": "JCVWnJwJ_CGL",
        "colab_type": "code",
        "colab": {
          "base_uri": "https://localhost:8080/",
          "height": 51
        },
        "outputId": "480b4148-299f-4f19-81c7-8efddfed1589"
      },
      "source": [
        "def print_lyrics():\n",
        "    print(\"I 'm a lumberkack, and I 'm okay\")\n",
        "    print(\"I sleep all night and I work all day\")\n",
        "\n",
        "print_lyrics()"
      ],
      "execution_count": 19,
      "outputs": [
        {
          "output_type": "stream",
          "text": [
            "I 'm a lumberkack, and I 'm okay\n",
            "I sleep all night and I work all day\n"
          ],
          "name": "stdout"
        }
      ]
    },
    {
      "cell_type": "code",
      "metadata": {
        "id": "hbTvQTbGAKwd",
        "colab_type": "code",
        "colab": {
          "base_uri": "https://localhost:8080/",
          "height": 85
        },
        "outputId": "c5d06652-8fc0-420c-b5ca-4f710da9fb1d"
      },
      "source": [
        "def repeat_lyrics():\n",
        "    print_lyrics()\n",
        "    print_lyrics()\n",
        "    \n",
        "repeat_lyrics()"
      ],
      "execution_count": 21,
      "outputs": [
        {
          "output_type": "stream",
          "text": [
            "I 'm a lumberkack, and I 'm okay\n",
            "I sleep all night and I work all day\n",
            "I 'm a lumberkack, and I 'm okay\n",
            "I sleep all night and I work all day\n"
          ],
          "name": "stdout"
        }
      ]
    },
    {
      "cell_type": "code",
      "metadata": {
        "id": "_LFW5LF7AiSc",
        "colab_type": "code",
        "colab": {}
      },
      "source": [
        ""
      ],
      "execution_count": 0,
      "outputs": []
    }
  ]
}